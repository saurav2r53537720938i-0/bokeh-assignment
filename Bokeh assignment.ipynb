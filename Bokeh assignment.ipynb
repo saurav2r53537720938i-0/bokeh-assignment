{
 "cells": [
  {
   "cell_type": "code",
   "execution_count": 1,
   "id": "844632c0-d69a-494d-9d10-33cfd51556ba",
   "metadata": {},
   "outputs": [],
   "source": [
    "from bokeh.plotting import figure,show\n",
    "\n",
    "# prepare data\n",
    "x = [1,2,3,4,5,]\n",
    "y = [6,7,2,4,5]\n",
    "\n",
    "# Create a new plot with a title and axis labels\n",
    "p = figure(title=\"simple line plot\", x_axis_label='x',y_axis_label='y')\n",
    "\n",
    "# Add a line renderer with legend and line thickness\n",
    "p.line(x,y,legend_label=\"Temp.\",line_width=2)\n",
    "\n",
    "# show the plot\n",
    "show(p)"
   ]
  },
  {
   "cell_type": "code",
   "execution_count": 2,
   "id": "11028e78-b2e2-400b-9b80-c09da3f59358",
   "metadata": {},
   "outputs": [
    {
     "ename": "SyntaxError",
     "evalue": "unterminated string literal (detected at line 22) (2503870133.py, line 22)",
     "output_type": "error",
     "traceback": [
      "\u001b[0;36m  Cell \u001b[0;32mIn[2], line 22\u001b[0;36m\u001b[0m\n\u001b[0;31m    p.line(x,y, line_width=2,color='black,alpha=0.9,legend_label='line')\u001b[0m\n\u001b[0m                                                                      ^\u001b[0m\n\u001b[0;31mSyntaxError\u001b[0m\u001b[0;31m:\u001b[0m unterminated string literal (detected at line 22)\n"
     ]
    }
   ],
   "source": [
    "from bokeh.plotting import figure,show\n",
    "\n",
    "# prepare data\n",
    "x = [1,2,3,4,5]\n",
    "y = [6,7,2,4,5]\n",
    "\n",
    "# Create a new plot with a little and axis labels\n",
    "p = figure(title=\"Glyphs Example\",x_axis_label='x',y_axis_labels='y')\n",
    "\n",
    "# Add circles glyph\n",
    "p.circle(x,y,size=10,\n",
    "         color='blue',alpha=0.5,\n",
    "         legend_label='Circles')\n",
    "\n",
    "# Add squares glyph\n",
    "p.square(x,y, size=8, color='red',alpha=0.7,legend_label='Squares')\n",
    "\n",
    "# Add tringles glyph\n",
    "p.tringle(x,y,size=12,color='green',alpha=0.8,legend_label='Tringles')\n",
    "\n",
    "# Add a line glyph\n",
    "p.line(x,y, line_width=2,color='black,alpha=0.9,legend_label='line')\n",
    "       \n",
    "# Add legend\n",
    "       p.legend.location = \"top_left\"\n",
    "       \n",
    "# show the plot\n",
    "show(p)"
   ]
  },
  {
   "cell_type": "code",
   "execution_count": 3,
   "id": "0a7d8b43-50a2-4bb4-8363-61f311a54292",
   "metadata": {},
   "outputs": [
    {
     "ename": "SyntaxError",
     "evalue": "incomplete input (4196799406.py, line 9)",
     "output_type": "error",
     "traceback": [
      "\u001b[0;36m  Cell \u001b[0;32mIn[3], line 9\u001b[0;36m\u001b[0m\n\u001b[0;31m    x_range=(0,6),y_range=(0,8),\u001b[0m\n\u001b[0m                                ^\u001b[0m\n\u001b[0;31mSyntaxError\u001b[0m\u001b[0;31m:\u001b[0m incomplete input\n"
     ]
    }
   ],
   "source": [
    "from bokeh.plotting import figure,show\n",
    "\n",
    "# prepare data\n",
    "x = [1,2,3,4,5]\n",
    "y = [6,7,2,4,5]\n",
    "\n",
    "# Create a new plot with custoomized apperance\n",
    "p = figure(title=\"customized plot\",x_axis_labels='X Axis',y_axis_label='Y Axis',y_axis_labels='Y Axis',\n",
    "           x_range=(0,6),y_range=(0,8),"
   ]
  },
  {
   "cell_type": "code",
   "execution_count": null,
   "id": "e96ce16a-349a-4e43-99a0-db52c8e462b2",
   "metadata": {},
   "outputs": [],
   "source": [
    "<?xml version=\"1.0\"\n",
    "encoding=\"utf-8\"?>\n",
    "<s:Application\n",
    "xmlns.fx=\"http://ns.adobe.com/mxml/2009\"\n",
    "\n",
    "xmlns:s=\"libary://ns.adobe.com/flex/spark\"\n",
    "\n",
    "xmlns:mx=\"library://ns.adobe.com/flex"
   ]
  }
 ],
 "metadata": {
  "kernelspec": {
   "display_name": "Python 3 (ipykernel)",
   "language": "python",
   "name": "python3"
  },
  "language_info": {
   "codemirror_mode": {
    "name": "ipython",
    "version": 3
   },
   "file_extension": ".py",
   "mimetype": "text/x-python",
   "name": "python",
   "nbconvert_exporter": "python",
   "pygments_lexer": "ipython3",
   "version": "3.10.8"
  }
 },
 "nbformat": 4,
 "nbformat_minor": 5
}
